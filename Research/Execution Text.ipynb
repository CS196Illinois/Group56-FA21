{
 "cells": [
  {
   "cell_type": "code",
   "execution_count": 2,
   "id": "688900bc",
   "metadata": {},
   "outputs": [
    {
     "name": "stdout",
     "output_type": "stream",
     "text": [
      "Done!\n"
     ]
    }
   ],
   "source": [
    "import multiprocessing\n",
    "import bus_list\n",
    "import bus_ai\n",
    "\n",
    "def test():\n",
    "    bus_ai.recordbus(\"ILLINI EVENING SATURDAY\")\n",
    "\n",
    "def run_all():\n",
    "    with multiprocessing.Pool() as pool:\n",
    "        pool.map(bus_ai.recordbus, bus_list)"
   ]
  },
  {
   "cell_type": "code",
   "execution_count": null,
   "id": "cbfb4408",
   "metadata": {},
   "outputs": [],
   "source": []
  }
 ],
 "metadata": {
  "kernelspec": {
   "display_name": "Python 3",
   "language": "python",
   "name": "python3"
  },
  "language_info": {
   "codemirror_mode": {
    "name": "ipython",
    "version": 3
   },
   "file_extension": ".py",
   "mimetype": "text/x-python",
   "name": "python",
   "nbconvert_exporter": "python",
   "pygments_lexer": "ipython3",
   "version": "3.8.8"
  }
 },
 "nbformat": 4,
 "nbformat_minor": 5
}
