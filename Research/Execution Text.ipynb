{
 "cells": [
  {
   "cell_type": "code",
   "execution_count": 2,
   "id": "688900bc",
   "metadata": {},
   "outputs": [
    {
     "name": "stdout",
     "output_type": "stream",
     "text": [
      "Done!\n"
     ]
    }
   ],
   "source": [
    "import multiprocessing\n",
    "import bus_list\n",
    "import bus_ai\n",
    "\n",
    "def test():\n",
    "    bus_ai.recordbus(\"ILLINI EVENING SATURDAY\")\n",
    "\n",
    "def run_all():\n",
    "    with multiprocessing.Pool() as pool:\n",
    "        pool.map(bus_ai.recordbus, bus_list)"
   ]
  },
  {
   "cell_type": "code",
   "execution_count": null,
   "id": "cbfb4408",
   "metadata": {},
   "outputs": [],
   "source": []
  }
 ],
 "metadata": {
  "interpreter": {
   "hash": "a2649898a9ea1f6b59caa2011eb58203dde5c3ad1e1498d6a4455ad474bab1b4"
  },
  "kernelspec": {
   "display_name": "Python 3.8.8 64-bit ('base': conda)",
   "name": "python3"
  },
  "language_info": {
   "codemirror_mode": {
    "name": "ipython",
    "version": 3
   },
   "file_extension": ".py",
   "mimetype": "text/x-python",
   "name": "python",
   "nbconvert_exporter": "python",
   "pygments_lexer": "ipython3",
   "version": "3.8.8"
  }
 },
 "nbformat": 4,
 "nbformat_minor": 5
}
