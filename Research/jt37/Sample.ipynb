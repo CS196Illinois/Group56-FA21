{
 "cells": [
  {
   "cell_type": "code",
   "execution_count": 1,
   "id": "2066f404",
   "metadata": {},
   "outputs": [
    {
     "name": "stdout",
     "output_type": "stream",
     "text": [
      "2021-10-17T00:30:23-05:00\n",
      "IU:1\n",
      "50E Green Lsq\n",
      "West\n",
      "Sceduled: 2021-10-17T00:28:00-05:00\n",
      "Expected: 2021-10-17T00:32:13-05:00\n",
      "2 mins\n"
     ]
    }
   ],
   "source": [
    "import requests\n",
    "\n",
    "keys = \"cde8e82f02cb488daa290433126c745f\"\n",
    "url = \"https://developer.cumtd.com/api/v2.2/json/getdeparturesbystop?key=cde8e82f02cb488daa290433126c745f&stop_id=iu&count=5\"\n",
    "payload={}\n",
    "headers = {}\n",
    "response = requests.request(\"GET\", url, headers=headers, data=payload)\n",
    "\n",
    "print(response.json()[\"time\"])\n",
    "print(response.json()[\"departures\"][0][\"stop_id\"])\n",
    "print(response.json()[\"departures\"][0][\"headsign\"])\n",
    "print(response.json()[\"departures\"][1][\"trip\"][\"direction\"])\n",
    "print(\"Sceduled: \" + str(response.json()[\"departures\"][1][\"scheduled\"]))\n",
    "print(\"Expected: \" + str(response.json()[\"departures\"][1][\"expected\"]))\n",
    "print(str(response.json()[\"departures\"][1][\"expected_mins\"]) + \" mins\")\n",
    "\n",
    "\n",
    "#### curr_time, stop_id, bus_num(headsign), scehduled_time, expected_time, expected_mins\n",
    "####  \n",
    "####"
   ]
  },
  {
   "cell_type": "code",
   "execution_count": null,
   "id": "00e31841",
   "metadata": {},
   "outputs": [],
   "source": [
    "import time\n",
    "\n",
    "def time_converter(time):\n",
    "    yes = time.split(\"T\")\n",
    "    no = yes[1].split(\"-\")\n",
    "    no1 = str(no[0]).split(\":\")\n",
    "    return int(no1[1]) * 60 + int(no1[2])\n",
    "\n",
    "def actualtime(bus_name, bus_stop):\n",
    "    url = \"https://developer.cumtd.com/api/v2.2/json/getdeparturesbystop?key=cde8e82f02cb488daa290433126c745f&stop_id=\" + bus_stop + \"&count=10\" \n",
    "    response = requests.request(\"GET\", url, headers=headers, data=payload)\n",
    "    list1 = []\n",
    "    for i in range(0, 10):\n",
    "        list1.append(str(response.json()[\"departures\"][i][\"headsign\"]))\n",
    "    if bus_name not in list1:\n",
    "        return \"This bus will not be arriving soon.\"\n",
    "    else: \n",
    "        index = list1.index(bus_name)\n",
    "    while response.json()[\"departures\"][i + 1][\"expected_mins\"] > 2:\n",
    "        time.sleep(30)\n",
    "        response\n",
    "    while (time_converter(str(response.json()[\"time\"])) - time_converter(str(response.json()[\"departures\"][i + 1][\"expected\"])) < 5):\n",
    "        time.sleep(3)                                                    \n",
    "        response                                                 \n",
    "    return response.json()[\"departures\"][i + 1][\"expected\"]\n",
    "\n",
    "def recordbus():\n",
    "    import datetime\n",
    "    now = datetime.datetime.now()\n",
    "    if now.day not in [1,2,3,18,19,20,21,22,23,24]:\n",
    "        return \"This bus does not run during these hours\"\n",
    "    url = \"https://developer.cumtd.com/api/v2.2/json/getvehicles?key=cde8e82f02cb488daa290433126c745f\"\n",
    "    response = requests.request(\"GET\", url, headers=headers, data=payload)\n",
    "    stop = \"\"\n",
    "    destination = \"\"\n",
    "    for (i in range(1, 30)):\n",
    "        if response.json()[vehicles][i][route_id] == \"ILLINI EVENING SATURDAY\":\n",
    "            stop = response.json()[vehicles][i][origin_stop_id]\n",
    "            destination = response.json()[vehicles][i][destination_stop_id]\n",
    "    while [vehicles][i][next_stop_id] != destination:\n",
    "        with open(\"illini_evening_saturday_output.txt\",\"a\") as f:\n",
    "            f.write(\"Something: {}\".format(actualtime(\"ILLINI EVENING SATURDAY\", stop)))\n",
    "            stop = [vehicles][i][next_stop_id]\n",
    "    with open(\"illini_evening_saturday_output.txt\",\"a\") as f:\n",
    "        f.write(\"Something: {}\".format(actualtime(\"ILLINI EVENING SATURDAY\", actualtime(\"ILLINI EVENING SATURDAY\", destination))))\n",
    "    "
   ]
  },
  {
   "cell_type": "code",
   "execution_count": null,
   "id": "06950e1e",
   "metadata": {},
   "outputs": [],
   "source": []
  }
 ],
 "metadata": {
  "kernelspec": {
   "display_name": "Python 3",
   "language": "python",
   "name": "python3"
  },
  "language_info": {
   "codemirror_mode": {
    "name": "ipython",
    "version": 3
   },
   "file_extension": ".py",
   "mimetype": "text/x-python",
   "name": "python",
   "nbconvert_exporter": "python",
   "pygments_lexer": "ipython3",
   "version": "3.8.8"
  }
 },
 "nbformat": 4,
 "nbformat_minor": 5
}
