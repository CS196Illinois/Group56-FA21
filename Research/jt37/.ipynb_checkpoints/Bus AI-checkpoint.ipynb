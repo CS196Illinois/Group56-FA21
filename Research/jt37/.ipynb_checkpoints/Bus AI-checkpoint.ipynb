{
 "cells": [
  {
   "cell_type": "code",
   "execution_count": 1,
   "id": "00e31841",
   "metadata": {},
   "outputs": [],
   "source": [
    "import requests\n",
    "import time\n",
    "\n",
    "# Converts \"T-notation time\" into seconds from 00:00\n",
    "def time_converter(time):\n",
    "    yes = time.split(\"T\")\n",
    "    no = yes[1].split(\"-\")\n",
    "    no1 = str(no[0]).split(\":\")\n",
    "    return int(no1[1]) * 60 + int(no1[2])\n",
    "\n",
    "# Gives the actual time of bus arrival with parameters being a bus name and a bus stop\n",
    "\n",
    "def actualtime(bus_name, bus_stop):\n",
    "    url = \"https://developer.cumtd.com/api/v2.2/json/getdeparturesbystop?key=cde8e82f02cb488daa290433126c745f&stop_id=\" + bus_stop + \"&count=15\"\n",
    "    response = requests.request(\"GET\", url, headers=headers, data=payload)\n",
    "    list1 = []\n",
    "        \n",
    "    for i in range(0, 15):\n",
    "        if str(response.json[\"departures\"][i][\"headsign\"]) not in list1: # taking dupes into account\n",
    "            list1.append(str(response.json()[\"departures\"][i][\"headsign\"]))\n",
    "        \n",
    "    while (bus_name not in list1):\n",
    "        time.sleep(120)\n",
    "        list1 = []\n",
    "        for i in range(0, 15):\n",
    "            list1.append(str(response.json([\"departures\"][i][\"headsign\"]))) # compensates for new list generated after waiting 2 minutes\n",
    "    \n",
    "    index = list1.index(bus_name)\n",
    "    \n",
    "    while response.json()[\"departures\"][index][\"expected_mins\"] > 2:\n",
    "        time.sleep(30)\n",
    "        response = requests.request(\"GET\", url, headers=headers, data=payload)\n",
    "        \n",
    "    while (time_converter(str(response.json()[\"time\"])) - \\\n",
    "           time_converter(str(response.json()[\"departures\"][index][\"expected\"])) < 10):\n",
    "        time.sleep(5)                                                    \n",
    "        response = requests.request(\"GET\", url, headers=headers, data=payload)\n",
    "    \n",
    "    return response.json()[\"departures\"][index][\"expected\"] # this returns updated expected time. removed index + 1, test to see why\n",
    "\n",
    "def recordbus(bus_name):\n",
    "    url = \"https://developer.cumtd.com/api/v2.2/json/getvehicles?key=cde8e82f02cb488daa290433126c745f\"\n",
    "    response = requests.request(\"GET\", url, headers=headers, data=payload)\n",
    "    current_stop = \"\"\n",
    "    \n",
    "    destination = \"\"\n",
    "    \n",
    "    exist = False\n",
    "    \n",
    "    vehicle_id = \"\"\n",
    "    \n",
    "    while(exist == False):\n",
    "        for i in range(1, 30):\n",
    "            if response.json()[vehicles][i][route_id] == bus_name:\n",
    "                current_stop = response.json()[vehicles][i][trip][origin_stop_id]\n",
    "                destination = response.json()[vehicles][i][trip][destination_stop_id]\n",
    "                vehicle_id = response.json()[vehicles][i][vehicle_id]\n",
    "                exist = True\n",
    "    \n",
    "    url = \"https://developer.cumtd.com/api/2.2/json/getvehicle?key=cde8e82f02cb488daa290433126c745f&vehicle_id\" \\\n",
    "    + vehicle_id\n",
    "    response = requests.request(\"GET\", url, headers=headers, data=payload)\n",
    "    while response.json()[vehicles][next_stop_id] != destination:\n",
    "        with open(\"bus_output.txt\",\"a\") as f:\n",
    "            f.write(\"{},{},{},{},{} \\n\".format(bus_name, direction, current_stop, route_id, actualtime(bus_name, current_stop)))\n",
    "            current_stop = response.json()[vehicles][next_stop_id]\n",
    "            \n",
    "    with open(\"bus_output.txt\",\"a\") as f:\n",
<<<<<<< HEAD:Research/jt37/Sample.ipynb
    "        f.write(\"{},{},{},{},{} \\n\".format(bus_name, direction, destination, route_id, actualtime(bus_name, current_stop)))\n",
=======
    "        f.write(\"Something: {}\".format(actualtime(bus_name, destination)))\n",
>>>>>>> 4ed1b00a4c4bb0e59ac6a0f5ca1cb9b080bad4c0:Research/jt37/.ipynb_checkpoints/Bus AI-checkpoint.ipynb
    "    "
   ]
  },
  {
   "cell_type": "code",
   "execution_count": null,
   "id": "06950e1e",
   "metadata": {},
   "outputs": [],
   "source": []
  }
 ],
 "metadata": {
  "interpreter": {
   "hash": "a2649898a9ea1f6b59caa2011eb58203dde5c3ad1e1498d6a4455ad474bab1b4"
  },
  "kernelspec": {
   "display_name": "Python 3.8.8 64-bit ('base': conda)",
   "name": "python3"
  },
  "language_info": {
   "codemirror_mode": {
    "name": "ipython",
    "version": 3
   },
   "file_extension": ".py",
   "mimetype": "text/x-python",
   "name": "python",
   "nbconvert_exporter": "python",
   "pygments_lexer": "ipython3",
   "version": "3.8.8"
  }
 },
 "nbformat": 4,
 "nbformat_minor": 5
}
