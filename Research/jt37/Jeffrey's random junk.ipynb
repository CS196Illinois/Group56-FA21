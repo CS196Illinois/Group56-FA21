{
 "cells": [
  {
   "cell_type": "code",
   "execution_count": 1,
   "id": "c1ed6ecc",
   "metadata": {},
   "outputs": [
    {
     "name": "stdout",
     "output_type": "stream",
     "text": [
      "Hello from variable number 3!\n"
     ]
    }
   ],
   "source": [
    "for i in range(0, 9):\n",
    "    globals()[f\"my_variable{i}\"] = f\"Hello from variable number {i}!\"\n",
    "\n",
    "\n",
    "print(my_variable3)\n",
    "# Hello from variable number 3!"
   ]
  },
  {
   "cell_type": "code",
   "execution_count": null,
   "id": "d62d921f",
   "metadata": {},
   "outputs": [],
   "source": []
  }
 ],
 "metadata": {
  "kernelspec": {
   "display_name": "Python 3",
   "language": "python",
   "name": "python3"
  },
  "language_info": {
   "codemirror_mode": {
    "name": "ipython",
    "version": 3
   },
   "file_extension": ".py",
   "mimetype": "text/x-python",
   "name": "python",
   "nbconvert_exporter": "python",
   "pygments_lexer": "ipython3",
   "version": "3.8.8"
  }
 },
 "nbformat": 4,
 "nbformat_minor": 5
}
