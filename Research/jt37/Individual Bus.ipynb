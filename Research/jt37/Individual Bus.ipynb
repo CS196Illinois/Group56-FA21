{
 "cells": [
  {
   "cell_type": "code",
   "execution_count": null,
   "id": "5b1dd6ef",
   "metadata": {},
   "outputs": [],
   "source": [
    "# Converts \"T-notation time\" into seconds from 00:00\n",
    "def time_converter(time):\n",
    "    yes = time.split(\"T\")\n",
    "    no = yes[1].split(\"-\")\n",
    "    no1 = str(no[0]).split(\":\")\n",
    "    return int(no1[1]) * 60 + int(no1[2])\n",
    "\n",
    "# Gives the actual time of bus arrival with parameters being a bus name and a bus stop\n",
    "import key\n",
    "import requests\n",
    "import multiprocessing\n",
    "\n",
    "def stop_recorder(stop):\n",
    "    url = \"https://developer.cumtd.com/api/v2.2/json/getdeparturesbystop?key=\" + key.get_key() + \"&stop_id=\" \\\n",
    "    + stop + \"&count=999\" + \"&pt=60\"\n",
    "    response = requests.request(\"GET\", url)\n",
    "    \n",
    "    list1 = []\n",
    "    \n",
    "    # Creates a list of bus names to iterate through and look for desired bus\n",
    "        \n",
    "    for i in range(0, 1):\n",
    "        list1.append(str(response.json()[\"departures\"][i][\"vehicle_id\"]))\n",
    "        \n",
    "    with multiprocessing.Pool() as pool:\n",
    "        pool.map(actual_time, list1)\n",
    "    \n",
    "    # Narrows down which bus is being tracked and prevents code from proceeding until it is within 2 minutes of arrival\n",
    "def actual_time(vehicle_id):\n",
    "    index = list1.index(vehicle_id)\n",
    "    \n",
    "    while int(response.json()[\"departures\"][index][\"expected_mins\"]) > 2:\n",
    "        time.sleep(30)\n",
    "        response = requests.request(\"GET\", url)\n",
    "        \n",
    "        # Tracks down when the bus is within 10 seconds of estimated time of arrival,\n",
    "        # pausing every 5 seconds if it's not, and refreshing\n",
    "        \n",
    "    while (exist(vehicle_id)) == True:\n",
    "        time.sleep(8)\n",
    "        response = requests.request(\"GET\", url)\n",
    "        \n",
    "    # returns the now expected time, which is extremely accurate to the actual time arrival\n",
    "    \n",
    "    return response.json()[\"departures\"][index][\"expected\"]\n",
    "\n",
    "def exist(vehicle_id):\n",
    "    list2 = []\n",
    "    exist = True\n",
    "    for i in range(0, 1):\n",
    "        list2.append(str(response.json()[\"departures\"][i][\"vehicle_id\"]))\n",
    "    try:\n",
    "        list2.index(vehicle_id)\n",
    "    except:\n",
    "        exist = False\n",
    "    return exist"
   ]
  },
  {
   "cell_type": "code",
   "execution_count": null,
   "id": "c3c41661",
   "metadata": {},
   "outputs": [],
   "source": [
    "stop_recorder(\"iu\")"
   ]
  },
  {
   "cell_type": "code",
   "execution_count": null,
   "id": "ccc35200",
   "metadata": {},
   "outputs": [],
   "source": []
  }
 ],
 "metadata": {
  "kernelspec": {
   "display_name": "Python 3",
   "language": "python",
   "name": "python3"
  },
  "language_info": {
   "codemirror_mode": {
    "name": "ipython",
    "version": 3
   },
   "file_extension": ".py",
   "mimetype": "text/x-python",
   "name": "python",
   "nbconvert_exporter": "python",
   "pygments_lexer": "ipython3",
   "version": "3.8.8"
  }
 },
 "nbformat": 4,
 "nbformat_minor": 5
}
