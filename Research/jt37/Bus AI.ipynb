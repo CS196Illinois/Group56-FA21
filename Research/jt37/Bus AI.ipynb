{
 "cells": [
  {
   "cell_type": "code",
   "execution_count": 1,
   "id": "00e31841",
   "metadata": {},
<<<<<<< HEAD
   "outputs": [],
=======
   "outputs": [
    {
     "ename": "NameError",
     "evalue": "name 'cde8e82f02cb488daa290433126c745f' is not defined",
     "output_type": "error",
     "traceback": [
      "\u001b[1;31m---------------------------------------------------------------------------\u001b[0m",
      "\u001b[1;31mNameError\u001b[0m                                 Traceback (most recent call last)",
      "\u001b[1;32m<ipython-input-1-4729d3197104>\u001b[0m in \u001b[0;36m<module>\u001b[1;34m\u001b[0m\n\u001b[0;32m      1\u001b[0m \u001b[1;32mimport\u001b[0m \u001b[0mrequests\u001b[0m\u001b[1;33m\u001b[0m\u001b[1;33m\u001b[0m\u001b[0m\n\u001b[0;32m      2\u001b[0m \u001b[1;32mimport\u001b[0m \u001b[0mtime\u001b[0m\u001b[1;33m\u001b[0m\u001b[1;33m\u001b[0m\u001b[0m\n\u001b[1;32m----> 3\u001b[1;33m \u001b[1;32mimport\u001b[0m \u001b[0mkey\u001b[0m\u001b[1;33m\u001b[0m\u001b[1;33m\u001b[0m\u001b[0m\n\u001b[0m\u001b[0;32m      4\u001b[0m \u001b[1;33m\u001b[0m\u001b[0m\n\u001b[0;32m      5\u001b[0m \u001b[1;31m# Converts \"T-notation time\" into seconds from 00:00\u001b[0m\u001b[1;33m\u001b[0m\u001b[1;33m\u001b[0m\u001b[1;33m\u001b[0m\u001b[0m\n",
      "\u001b[1;32m~\\Group56-FA21\\Research\\jt37\\key.py\u001b[0m in \u001b[0;36m<module>\u001b[1;34m\u001b[0m\n\u001b[1;32m----> 1\u001b[1;33m \u001b[0mkey\u001b[0m \u001b[1;33m=\u001b[0m \u001b[0mcde8e82f02cb488daa290433126c745f\u001b[0m\u001b[1;33m\u001b[0m\u001b[1;33m\u001b[0m\u001b[0m\n\u001b[0m\u001b[0;32m      2\u001b[0m \u001b[1;32mdef\u001b[0m \u001b[0mget_key\u001b[0m\u001b[1;33m(\u001b[0m\u001b[1;33m)\u001b[0m\u001b[1;33m:\u001b[0m\u001b[1;33m\u001b[0m\u001b[1;33m\u001b[0m\u001b[0m\n\u001b[0;32m      3\u001b[0m     \u001b[1;32mreturn\u001b[0m \u001b[0mkey\u001b[0m\u001b[1;33m\u001b[0m\u001b[1;33m\u001b[0m\u001b[0m\n",
      "\u001b[1;31mNameError\u001b[0m: name 'cde8e82f02cb488daa290433126c745f' is not defined"
     ]
    }
   ],
>>>>>>> 2393acedb7a5044381ca7a1bc6a9b76e6be098e2
   "source": [
    "import requests\n",
    "import time\n",
    "import key\n",
    "\n",
    "# Converts \"T-notation time\" into seconds from 00:00\n",
    "def time_converter(time):\n",
    "    yes = time.split(\"T\")\n",
    "    no = yes[1].split(\"-\")\n",
    "    no1 = str(no[0]).split(\":\")\n",
    "    return int(no1[1]) * 60 + int(no1[2])\n",
    "\n",
    "# Gives the actual time of bus arrival with parameters being a bus name and a bus stop\n",
    "\n",
    "def actualtime(bus_name, bus_stop):\n",
    "    url = \"https://developer.cumtd.com/api/v2.2/json/getdeparturesbystop?key=\" + key.get_key() + \"&stop_id=\" \\\n",
    "    + bus_stop + \"&count=15\"\n",
<<<<<<< HEAD
    "    response = requests.request(\"GET\", url, headers=headers, data=payload)\n",
=======
    "    response = requests.request(\"GET\", url, headers=headers)\n",
>>>>>>> 2393acedb7a5044381ca7a1bc6a9b76e6be098e2
    "    list1 = []\n",
    "    \n",
    "    # Creates a list of bus names to iterate through and look for desired bus\n",
    "        \n",
    "    for i in range(0, 15):\n",
    "        list1.append(str(response.json()[\"departures\"][i][\"headsign\"]))\n",
    "\n",
    "    # Restarts requests after 2 minutes if not within the first 15 buses that will arrive\n",
    "        \n",
    "    while (bus_name not in list1):\n",
    "        time.sleep(120)\n",
    "    \n",
    "    index = list1.index(bus_name)\n",
    "    \n",
    "    # Narrows down which bus is being tracked and prevents code from proceeding until it is within 2 minutes of arrival\n",
    "    while response.json()[\"departures\"][index + 1][\"expected_mins\"] > 2:\n",
    "        time.sleep(30)\n",
<<<<<<< HEAD
    "        response = requests.request(\"GET\", url, headers=headers, data=payload)\n",
=======
    "        response = requests.request(\"GET\", url, headers=headers)\n",
>>>>>>> 2393acedb7a5044381ca7a1bc6a9b76e6be098e2
    "        \n",
    "        # Tracks down when the bus is within 10 seconds of estimated time of arrival,\n",
    "        # pausing every 5 seconds if it's not, and refreshing\n",
    "        \n",
    "    while (time_converter(str(response.json()[\"time\"])) - \\\n",
    "           time_converter(str(response.json()[\"departures\"][index + 1][\"expected\"])) < 10):\n",
    "        time.sleep(5)\n",
    "        response = requests.request(\"GET\", url, headers=headers, data=payload)\n",
    "        \n",
    "    # returns the now expected time, which is extremely accurate to the actual time arrival\n",
    "    \n",
    "    return response.json()[\"departures\"][index + 1][\"expected\"]\n",
    "\n",
    "# finds a specific bus to track down all the stops it goes to, with\n",
    "# the bus name to be tracked as a parameter\n",
    "\n",
    "def recordbus(bus_name):\n",
    "    url = \"https://developer.cumtd.com/api/v2.2/json/getvehicles?key=\" + key.get_key()\n",
<<<<<<< HEAD
    "    response = requests.request(\"GET\", url, headers=headers, data=payload)\n",
=======
    "    response = requests.request(\"GET\", url, headers=headers)\n",
>>>>>>> 2393acedb7a5044381ca7a1bc6a9b76e6be098e2
    "    current_stop = \"\"\n",
    "    \n",
    "    # stop for the final destination\n",
    "    \n",
    "    destination = \"\"\n",
    "    \n",
    "    # checks if the bus line is operative or not\n",
    "    \n",
    "    exist = False\n",
    "    \n",
    "    # keeps track of which vehicle is being examined\n",
    "    \n",
    "    vehicle_id = \"\"\n",
    "    \n",
    "    # Runs until the bus the user requests for is active\n",
    "    \n",
    "    while(exist == False):\n",
    "        for i in range(1, 30):\n",
    "            if response.json()[vehicles][i][route_id] == bus_name:\n",
    "                current_stop = response.json()[vehicles][i][trip][origin_stop_id]\n",
    "                destination = response.json()[vehicles][i][trip][destination_stop_id]\n",
    "                vehicle_id = response.json()[vehicles][i][vehicle_id]\n",
    "                exist = True\n",
    "                \n",
    "    # Iterates through the bus system like a linked list, setting the stop to keep track of \n",
    "    # as the next one after the current stop is evaluated\n",
    "    \n",
    "    url = \"https://developer.cumtd.com/api/2.2/json/getvehicle?key=\" + key.get_key() \\\n",
    "    + vehicle_id\n",
<<<<<<< HEAD
    "    response = requests.request(\"GET\", url, headers=headers, data=payload)\n",
=======
    "    response = requests.request(\"GET\", url, headers=headers)\n",
>>>>>>> 2393acedb7a5044381ca7a1bc6a9b76e6be098e2
    "    while response.json()[vehicles][next_stop_id] != destination:\n",
    "        with open(\"bus_output.txt\",\"a\") as f:\n",
    "            f.write(\"{},{},{},{},{} \\n\".format(bus_name, direction, current_stop, route_id, actualtime(bus_name, current_stop)))\n",
    "            current_stop = response.json()[vehicles][next_stop_id]\n",
    "            \n",
    "    # runs one final time on the final destination stop\n",
    "            \n",
    "    with open(\"bus_output.txt\",\"a\") as f:\n",
<<<<<<< HEAD
<<<<<<< HEAD:Research/jt37/Bus AI.ipynb
    "        f.write(\"{},{},{},{},{} \\n\".format(bus_name, direction, destination, route_id, actualtime(bus_name, current_stop)))\n",
=======
    "        f.write(\"Something: {}\".format(actualtime(bus_name, destination)))\n",
>>>>>>> 2393acedb7a5044381ca7a1bc6a9b76e6be098e2:Research/jt37/.ipynb_checkpoints/Bus AI-checkpoint.ipynb
=======
    "        f.write(\"{},{},{},{},{} \\n\".format(bus_name, direction, destination, route_id, actualtime(bus_name, current_stop)))\n",
>>>>>>> 2393acedb7a5044381ca7a1bc6a9b76e6be098e2
    "    "
   ]
  },
  {
   "cell_type": "code",
   "execution_count": null,
   "id": "06950e1e",
   "metadata": {},
   "outputs": [],
   "source": []
  }
 ],
 "metadata": {
  "kernelspec": {
   "display_name": "Python 3",
   "language": "python",
   "name": "python3"
  },
  "language_info": {
   "codemirror_mode": {
    "name": "ipython",
    "version": 3
   },
   "file_extension": ".py",
   "mimetype": "text/x-python",
   "name": "python",
   "nbconvert_exporter": "python",
   "pygments_lexer": "ipython3",
   "version": "3.8.8"
  }
 },
 "nbformat": 4,
 "nbformat_minor": 5
}
