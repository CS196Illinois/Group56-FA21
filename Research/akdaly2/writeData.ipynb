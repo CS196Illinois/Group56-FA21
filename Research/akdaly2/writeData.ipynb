{
 "cells": [
  {
   "cell_type": "code",
   "execution_count": 250,
   "metadata": {},
   "outputs": [],
   "source": [
    "import requests\n",
    "import csv\n",
    "from time import time, sleep\n",
    "import time\n",
    "### enter your own API key\n",
    "url = \"https://developer.cumtd.com/api/v2.2/json/getdeparturesbystop?key==user_key&stop_id=iu&count=10\"\n",
    "header = [\" curr_time \", \" stop_id \", \" bus_num(headsign) \", \" scheduled_time \", \" expected_time \", \" expected_mins \"]\n",
    "payload = {}\n",
    "headers = {}"
   ]
  },
  {
   "cell_type": "code",
   "execution_count": 260,
   "metadata": {},
   "outputs": [],
   "source": [
    "### writes data into a CSV \n",
    "### Need to put r in front of link in order for function to read data.\n",
    "### Ex: writeData(r\"C:Users\\user\\place\", int(time.time()), int(time.time() + 30), 3)\n",
    "def writeData(link, start_time, end_time, gap):\n",
    "    ### creating the writer\n",
    "    f = open(link, \"w\", encoding = \"UTF8\", newline = '')\n",
    "    writer = csv.writer(f)\n",
    "    writer.writerow(header)\n",
    "    for i in range(start_time, end_time, gap):\n",
    "        ### stops function from running for gap seconds\n",
    "        sleep(gap)\n",
    "        ### need to request every gap seconds to get current data\n",
    "        response = requests.request(\"GET\", url, headers=headers, data=payload)\n",
    "        ### writing the data (note that they are in brackets otherwise csv will interpret strings as a list)\n",
    "        writer.writerow([response.json()[\"time\"]] +\n",
    "        [response.json()[\"departures\"][0][\"stop_id\"]] +\n",
    "        [response.json()[\"departures\"][0][\"headsign\"]] +\n",
    "        [response.json()[\"departures\"][1][\"trip\"][\"direction\"]] + \n",
    "        [response.json()[\"departures\"][1][\"scheduled\"]] +\n",
    "        [response.json()[\"departures\"][1][\"expected\"]] +\n",
    "        [response.json()[\"departures\"][1][\"expected_mins\"]])\n",
    "    f.close()"
   ]
  }
 ],
 "metadata": {
  "interpreter": {
   "hash": "93e4a4a08f4b49b8e2670cde902f4aa221da77c0a194fbef7f7d60ba73179568"
  },
  "kernelspec": {
   "display_name": "Python 3.9.1 64-bit",
   "name": "python3"
  },
  "language_info": {
   "codemirror_mode": {
    "name": "ipython",
    "version": 3
   },
   "file_extension": ".py",
   "mimetype": "text/x-python",
   "name": "python",
   "nbconvert_exporter": "python",
   "pygments_lexer": "ipython3",
   "version": "3.9.1"
  },
  "orig_nbformat": 4
 },
 "nbformat": 4,
 "nbformat_minor": 2
}
