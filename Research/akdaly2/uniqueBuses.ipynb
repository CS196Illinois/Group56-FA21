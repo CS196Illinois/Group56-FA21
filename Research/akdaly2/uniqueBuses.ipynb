{
 "cells": [
  {
   "cell_type": "code",
   "execution_count": 17,
   "metadata": {},
   "outputs": [],
   "source": [
    "import pandas as pd\n",
    "import csv\n",
    "import os\n"
   ]
  },
  {
   "cell_type": "code",
   "execution_count": 12,
   "metadata": {},
   "outputs": [
    {
     "name": "stdout",
     "output_type": "stream",
     "text": [
      "             route_id agency_id  route_short_name      route_long_name  \\\n",
      "0       YELLOW SUNDAY     CUMTD               100        Yellow Sunday   \n",
      "1               RAVEN     CUMTD                21                Raven   \n",
      "2       SILVER SUNDAY     CUMTD               130        Silver Sunday   \n",
      "3        ORANGEHOPPER     CUMTD                 6        Orange Hopper   \n",
      "4              SILVER     CUMTD                13               Silver   \n",
      "..                ...       ...               ...                  ...   \n",
      "98       LIME EVENING     CUMTD               180         Lime Evening   \n",
      "99        GREENHOPPER     CUMTD                 5         Green Hopper   \n",
      "100     GREEN EXPRESS     CUMTD                 5        Green Express   \n",
      "101  1N YELLOW ALT PM     CUMTD                 1  Yellow Alternate PM   \n",
      "102     GREEN EVENING     CUMTD                50        Green Evening   \n",
      "\n",
      "     route_desc  route_type  route_url route_color route_text_color  \n",
      "0           NaN           3        NaN      fcee1f           000000  \n",
      "1           NaN           3        NaN      000000           ffffff  \n",
      "2           NaN           3        NaN      cccccc           000000  \n",
      "3           NaN           3        NaN      f99f2a           000000  \n",
      "4           NaN           3        NaN      cccccc           000000  \n",
      "..          ...         ...        ...         ...              ...  \n",
      "98          NaN           3        NaN      b2d235           000000  \n",
      "99          NaN           3        NaN      008063           ffffff  \n",
      "100         NaN           3        NaN      008063           ffffff  \n",
      "101         NaN           3        NaN      fcee1f           000000  \n",
      "102         NaN           3        NaN      008063           ffffff  \n",
      "\n",
      "[103 rows x 9 columns]\n"
     ]
    }
   ],
   "source": [
    "df = pd.read_csv (r'C:\\Users\\ad120\\OneDrive\\Group56-FA21\\Research\\akdaly2\\routes.txt')\n",
    "print(df)"
   ]
  },
  {
   "cell_type": "code",
   "execution_count": 45,
   "metadata": {},
   "outputs": [
    {
     "name": "stdout",
     "output_type": "stream",
     "text": [
      "{'', 'LINK', '1 YELLOW ALT', 'LIME SUNDAY', 'LIME SATURDAY', 'GOLD', 'GREEN EXPRESS', 'GREY', 'ILLINI', 'LIME EVENING', 'ILLINI EVENING SUNDAY', 'ORANGEHOPPER', 'SILVER', 'ORANGE', 'SILVER SUNDAY', 'TEAL LATE NIGHT', 'TEAL SATURDAY', 'LAVENDER SATURDAY', 'BROWN ALT', 'SILVER EVENING SUNDAY', 'LIME EVENING SATURDAY', 'TEAL EVENING SATURDAY', 'GREY SATURDAY', 'GREEN', '1N YELLOW ALT PM', '1N YELLOW ALT', 'YELLOW LATE NIGHT SATURDAY', 'TEAL SUNDAY', 'YELLOW LATE NIGHT', 'GREENHOPPER EVENING', '5W GREEN EXPRESS 2', 'GREEN EVENING', '5E GREEN EXPRESS 1 ALT', 'SILVER LIMITED SUNDAY', 'RUBY EVENING', 'SILVER EVENING', 'GREEN LATE NIGHT SUNDAY', 'BLUE', 'GREY ALT', '3S LAVENDER ALT', 'YELLOW EVENING', 'GREEN SUNDAY', 'RUBY SATURDAY', 'SILVER LIMITED EVENING', 'SILVER LIMITED EVENING SATURDAY', 'BROWN ALT1', 'YELLOW EVENING SATURDAY', 'ILLINI LIMITED SUNDAY', 'PINK', 'ILLINI EVENING', 'GREEN LATE NIGHT', 'LAVENDER ALT', '5W GREEN ALT 2', 'BRONZE YANKEE RIDGE', '1S YELLOW ALT', 'GREEN LATE NIGHT SATURDAY', 'YELLOW SATURDAY', 'RAVEN', 'LAVENDER SUNDAY', 'TEAL', 'ILLINI LIMITED EVENING SATURDAY', 'GREY EVENING SATURDAY', 'TEAL LATE NIGHT SUNDAY', 'BRONZE', 'GREENHOPPER', 'SILVER LIMITED SATURDAY', '5E GREEN EXPRESS ALT', 'ILLINI LIMITED EVENING', '7W GREY ALT', 'GREEN SATURDAY', 'GOLD ALT', 'GREENHOPPER EVENING SATURDAY', 'GREEN EXPRESS ALT', 'BROWN', 'YELLOW', 'BROWN ALT PM', 'ORANGE ALT', 'GREY SUNDAY', 'SILVER EVENING SATURDAY', 'ILLINI EVENING SATURDAY', 'YELLOWHOPPER', 'YELLOW LATE NIGHT SUNDAY', 'GREEN ALT', 'RUBY', '10W GOLD ALT', '7E GREY ALT', 'RED', 'GREEN EVENING SATURDAY', 'GOLDHOPPER', 'RUBY EVENING SATURDAY', 'NAVY', 'route_id', 'YELLOW SUNDAY', 'GREY EVENING', 'SILVER LATE NIGHT', 'PINK ALT', 'TEAL EVENING', 'RUBY SUNDAY', 'ILLINI LIMITED', 'RED SATURDAY', 'ILLINI LIMITED SATURDAY', 'BRONZE ALT', 'LAVENDER', 'SILVER SATURDAY', 'TEAL LATE NIGHT SATURDAY'}\n",
      "105\n"
     ]
    }
   ],
   "source": [
    "with open(r'C:\\Users\\ad120\\OneDrive\\Group56-FA21\\Research\\akdaly2\\routes.txt') as f:\n",
    "    s = f.read() + \"\\n\"\n",
    "lines = s.split(\"\\n\")\n",
    "buses = set()\n",
    "for line in range(0, len(lines)):\n",
    "    values = lines[line].split(\",\")\n",
    "    buses.add(values[0])\n",
    "print(buses)\n",
    "print(len(buses))\n",
    "    "
   ]
  }
 ],
 "metadata": {
  "interpreter": {
   "hash": "93e4a4a08f4b49b8e2670cde902f4aa221da77c0a194fbef7f7d60ba73179568"
  },
  "kernelspec": {
   "display_name": "Python 3.9.1 64-bit",
   "name": "python3"
  },
  "language_info": {
   "codemirror_mode": {
    "name": "ipython",
    "version": 3
   },
   "file_extension": ".py",
   "mimetype": "text/x-python",
   "name": "python",
   "nbconvert_exporter": "python",
   "pygments_lexer": "ipython3",
   "version": "3.9.1"
  },
  "orig_nbformat": 4
 },
 "nbformat": 4,
 "nbformat_minor": 2
}
